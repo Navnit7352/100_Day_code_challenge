{
  "nbformat": 4,
  "nbformat_minor": 0,
  "metadata": {
    "colab": {
      "provenance": [],
      "authorship_tag": "ABX9TyM+7mRLjmmxhJpt8SrQYDNO",
      "include_colab_link": true
    },
    "kernelspec": {
      "name": "python3",
      "display_name": "Python 3"
    },
    "language_info": {
      "name": "python"
    }
  },
  "cells": [
    {
      "cell_type": "markdown",
      "metadata": {
        "id": "view-in-github",
        "colab_type": "text"
      },
      "source": [
        "<a href=\"https://colab.research.google.com/github/Navnit7352/100_Day_code_challenge/blob/main/Module1/Lession4.ipynb\" target=\"_parent\"><img src=\"https://colab.research.google.com/assets/colab-badge.svg\" alt=\"Open In Colab\"/></a>"
      ]
    },
    {
      "cell_type": "code",
      "execution_count": null,
      "metadata": {
        "id": "pXa83RF5aJHn"
      },
      "outputs": [],
      "source": []
    },
    {
      "cell_type": "markdown",
      "source": [
        "** Lesson 4: Pointers and Dynamic Memory Allocation**\n",
        "\n",
        "🔸 Key Concepts:\n",
        "Pointers store memory addresses.\n",
        "\n",
        "Dynamic memory allocation allows creating variables at runtime.\n",
        "\n",
        "C/C++: malloc, calloc, free, new, delete.\n",
        "\n",
        "Java: No pointers; memory is managed with new.\n",
        "\n",
        "Python: Memory is managed automatically.\n",
        "\n"
      ],
      "metadata": {
        "id": "Fq1FW717cMmo"
      }
    },
    {
      "cell_type": "markdown",
      "source": [],
      "metadata": {
        "id": "bCsaUVAycK_w"
      }
    }
  ]
}